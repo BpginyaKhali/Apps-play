{
 "cells": [
  {
   "cell_type": "code",
   "execution_count": 37,
   "id": "70df407d-d9ac-4088-9199-ce48cd9c0399",
   "metadata": {},
   "outputs": [],
   "source": [
    "import tkinter\n",
    "from tkinter import *\n",
    "from tkinter.ttk import *\n",
    "\n",
    "question = Tk()\n",
    "question.geometry(\"500x500\")\n",
    "question.title(\"Ao meu amor!\")\n",
    "labelQ= Label(question, text= \"Como eu escreveria 'jealousy' em português um ano atras?\")\n",
    "\n",
    "labelQ.grid(column=0,row=0)\n",
    "answer = Entry(question, width = 10)\n",
    "answer.grid(column=1,row = 0)\n",
    "\n",
    "\n",
    "\n",
    "\n",
    "\n",
    "def clicked():\n",
    "    if answer.get().lower() == \"ciúmes\":\n",
    "       res = \"Hoje em dia, sim! Então não! Tenta de novo!\"\n",
    "       labelQ.configure(text=res)\n",
    "        \n",
    "    elif answer.get().lower() == \"suimes\":\n",
    "       root = Toplevel(question)\n",
    "       root.geometry(\"750x420\")\n",
    "       root.title(\"Feliz aniversario a nos! Com um ano do nosso amor!\")\n",
    "       res = \"Certo! Aqui o meu presente pra você! Te amo!\"\n",
    "       lebelres = Label(root, text = res)\n",
    "       lebelres.pack()\n",
    "       \n",
    "       data1 =\"Quero beber o seu sorriso, afogar no seu beijo, cair no seu abraço\"\n",
    "       data2 = \"E perder a minha realidade lá\"\n",
    "       data3 = \"Viajando no calor do seu corpo\"\n",
    "       data4 = \"Perder e achar de novo como eu sou e de onde venho \"\n",
    "       data5 = \"Quero perder controle, deixar você tocar em mim e fazer música do meu gemido\"\n",
    "       data6 =\"Quero que você feche o sol dos meus olhos, deixe eu olhar você \"\n",
    "       data7 = \"Quero a sua atenção, sua conquista e a minha rendição\"\n",
    "       data8 = 'Para que ce entre pra onde sou pelado' \n",
    "       data9 = 'Esperando você'\n",
    "       data10 = 'Quero a bruxaria pra te virar um animal do jeito eu queira, do jeito ce me mete até quase matar e revitalizar'\n",
    "       data11 = 'Quero você, seu doce, seu salgado, seu amargo, seu tal'\n",
    "       data12 = 'Quero que você satisfaça o meu desejo satisfazendo o seu'\n",
    "       data13 = 'Quero que você feche as portas, apague a luz, para que fiquemos de dois no escuro sentindo nosso calor, cheiro, como nossos corações batem'\n",
    "       data14 = 'Quero que achemos a luz nos olhos do outro e portas abertas.'\n",
    "\n",
    "\n",
    "       label1 = Label(root,text= data1, wraplength=300, justify=\"center\")\n",
    "       label2 = Label(root,text= data2, wraplength=300, justify=\"center\")\n",
    "       label3 = Label(root,text= data3, wraplength=300, justify=\"center\")\n",
    "       label4 = Label(root,text= data4, wraplength=300, justify=\"center\")\n",
    "       label5 =  Label(root,text= data5, wraplength=300, justify=\"center\")\n",
    "       label6= Label(root,text= data6, wraplength=300, justify=\"center\")\n",
    "       label7= Label(root,text= data7, wraplength=300, justify=\"center\")\n",
    "       label8= Label(root,text= data8, wraplength=300, justify=\"center\")\n",
    "       label9= Label(root,text= data9, wraplength=300, justify=\"center\")\n",
    "       label10=  Label(root,text= data10, wraplength=300, justify=\"center\")\n",
    "       label11= Label(root,text= data11, wraplength=300, justify=\"center\")\n",
    "       label12= Label(root,text= data12, wraplength=300, justify=\"center\")\n",
    "       label13= Label(root,text= data13, wraplength=300, justify=\"center\")\n",
    "       label14= Label(root,text= data14, wraplength=300, justify=\"center\")\n",
    " \n",
    "       label1.pack()\n",
    "       label2.pack()\n",
    "       label3.pack()\n",
    "       label4.pack()\n",
    "       label5.pack()\n",
    "       label6.pack()\n",
    "       label7.pack()\n",
    "       label8.pack()\n",
    "       label9.pack()\n",
    "       label10.pack()\n",
    "       label11.pack()\n",
    "       label12.pack()\n",
    "       label13.pack()\n",
    "       label14.pack()\n",
    "       \n",
    "    else:\n",
    "       res = \"Ne não, meu amor! Faz de novo, se quiser desistir, me chama!:P\"\n",
    "       labelQ.configure(text = res)\n",
    "       \n",
    "\n",
    "bttn = Button(question, text =\"Give me the answer, Rafael!\", command = clicked)\n",
    "bttn.grid(column=0,row = 1)\n",
    "\n",
    "\n",
    "question.mainloop()"
   ]
  },
  {
   "cell_type": "markdown",
   "id": "abe58836-b963-4297-915e-e766c764c73c",
   "metadata": {},
   "source": [
    "from tkinter install *"
   ]
  },
  {
   "cell_type": "code",
   "execution_count": null,
   "id": "d2023a94-ca94-4984-97c8-879a25629c58",
   "metadata": {
    "scrolled": true
   },
   "outputs": [],
   "source": []
  },
  {
   "cell_type": "code",
   "execution_count": null,
   "id": "312e4def-df38-42c1-a1f6-06aeca762df6",
   "metadata": {},
   "outputs": [],
   "source": []
  },
  {
   "cell_type": "code",
   "execution_count": null,
   "id": "c8d92310-57f7-4391-b770-63aacee403e7",
   "metadata": {},
   "outputs": [],
   "source": []
  },
  {
   "cell_type": "code",
   "execution_count": null,
   "id": "94841e49-fe25-4547-8525-ef82bdb30ce6",
   "metadata": {},
   "outputs": [],
   "source": []
  },
  {
   "cell_type": "code",
   "execution_count": 6,
   "id": "d87b26f3-f9a3-4de5-9117-8623706e18cb",
   "metadata": {},
   "outputs": [],
   "source": [
    "#canvas\n",
    "#entry"
   ]
  },
  {
   "cell_type": "code",
   "execution_count": null,
   "id": "c55a6524-be55-454c-9e1e-20334910e53a",
   "metadata": {},
   "outputs": [],
   "source": []
  },
  {
   "cell_type": "code",
   "execution_count": null,
   "id": "0739e022-dd7c-4849-bfec-a8fb3e0731da",
   "metadata": {},
   "outputs": [],
   "source": []
  },
  {
   "cell_type": "code",
   "execution_count": null,
   "id": "71339829-e9ac-434a-a0f8-df39ceb454b3",
   "metadata": {},
   "outputs": [],
   "source": []
  },
  {
   "cell_type": "code",
   "execution_count": null,
   "id": "f959ab3a-ea45-465d-ae23-f53cf8303750",
   "metadata": {},
   "outputs": [],
   "source": []
  },
  {
   "cell_type": "code",
   "execution_count": null,
   "id": "bebf1098-ec2c-44c9-81a6-077adb369979",
   "metadata": {},
   "outputs": [],
   "source": []
  }
 ],
 "metadata": {
  "kernelspec": {
   "display_name": "Python 3 (ipykernel)",
   "language": "python",
   "name": "python3"
  },
  "language_info": {
   "codemirror_mode": {
    "name": "ipython",
    "version": 3
   },
   "file_extension": ".py",
   "mimetype": "text/x-python",
   "name": "python",
   "nbconvert_exporter": "python",
   "pygments_lexer": "ipython3",
   "version": "3.11.3"
  }
 },
 "nbformat": 4,
 "nbformat_minor": 5
}
